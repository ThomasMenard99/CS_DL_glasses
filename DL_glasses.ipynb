{
  "cells": [
    {
      "cell_type": "code",
      "execution_count": null,
      "metadata": {
        "id": "547T7XdLevwx"
      },
      "outputs": [],
      "source": [
        "import matplotlib.pyplot as plt\n",
        "import torch\n",
        "import torch.nn as nn\n",
        "import pathlib\n",
        "from torch.utils.data import DataLoader\n",
        "from torchvision import datasets, transforms"
      ]
    },
    {
      "cell_type": "code",
      "execution_count": null,
      "metadata": {
        "colab": {
          "base_uri": "https://localhost:8080/"
        },
        "id": "WJAYDtlyeATX",
        "outputId": "aea32fb5-478d-40f8-a1a4-5e52bbfea54e"
      },
      "outputs": [
        {
          "name": "stdout",
          "output_type": "stream",
          "text": [
            "Drive already mounted at /content/drive; to attempt to forcibly remount, call drive.mount(\"/content/drive\", force_remount=True).\n"
          ]
        }
      ],
      "source": [
        "from google.colab import drive\n",
        "drive.mount('/content/drive')"
      ]
    },
    {
      "cell_type": "code",
      "execution_count": null,
      "metadata": {
        "colab": {
          "base_uri": "https://localhost:8080/",
          "height": 35
        },
        "id": "IIeEjPpYeLuq",
        "outputId": "41bd5969-ee91-4186-ff0d-fe462f57f3e9"
      },
      "outputs": [
        {
          "data": {
            "application/vnd.google.colaboratory.intrinsic+json": {
              "type": "string"
            },
            "text/plain": [
              "'cpu'"
            ]
          },
          "execution_count": 162,
          "metadata": {},
          "output_type": "execute_result"
        }
      ],
      "source": [
        "# Setup device-agnostic code\n",
        "device = \"cuda\" if torch.cuda.is_available() else \"cpu\"\n",
        "device"
      ]
    },
    {
      "cell_type": "markdown",
      "metadata": {
        "id": "JFuOF0CDfBxf"
      },
      "source": [
        "### Process des données"
      ]
    },
    {
      "cell_type": "code",
      "execution_count": null,
      "metadata": {
        "colab": {
          "base_uri": "https://localhost:8080/"
        },
        "id": "Emv-lDMHeMf4",
        "outputId": "b9ca4443-ce65-435f-e78f-d501d881098b"
      },
      "outputs": [
        {
          "data": {
            "text/plain": [
              "(PosixPath('/content/drive/My Drive/Colab Notebooks/DL/KaggleGlass/train'),\n",
              " PosixPath('/content/drive/My Drive/Colab Notebooks/DL/KaggleGlass/test/small_test_set'))"
            ]
          },
          "execution_count": 163,
          "metadata": {},
          "output_type": "execute_result"
        }
      ],
      "source": [
        "# Setup train and testing paths\n",
        "data_path = pathlib.Path(\"/content/drive/My Drive/Colab Notebooks/DL/KaggleGlass/\")\n",
        "train_dir = data_path / \"train\"\n",
        "test_dir = data_path / \"test/small_test_set\"\n",
        "\n",
        "train_dir, test_dir"
      ]
    },
    {
      "cell_type": "code",
      "execution_count": null,
      "metadata": {
        "colab": {
          "base_uri": "https://localhost:8080/"
        },
        "id": "dssaSVVTfXeZ",
        "outputId": "6c1deb1c-0579-46b2-c4fa-9baa538632d4"
      },
      "outputs": [
        {
          "data": {
            "text/plain": [
              "pathlib.PosixPath"
            ]
          },
          "execution_count": 5,
          "metadata": {},
          "output_type": "execute_result"
        }
      ],
      "source": [
        "type(train_dir)"
      ]
    },
    {
      "cell_type": "markdown",
      "metadata": {
        "id": "3H6q-tb5yLe4"
      },
      "source": [
        "#### Resize image"
      ]
    },
    {
      "cell_type": "code",
      "execution_count": null,
      "metadata": {
        "id": "u-LQWM3wyNRS"
      },
      "outputs": [],
      "source": [
        "data_transform = transforms.Compose(\n",
        "    [transforms.Resize(size=(64, 64)), transforms.ToTensor()]  # Resize the images to 64x64*\n",
        ")\n",
        "\n",
        "# * this means we will need 64x64x3 input neurons\n",
        "\n",
        "train_data = datasets.ImageFolder(root=train_dir,  # target folder of images\n",
        "                                  transform=data_transform,  # transforms to perform on data (images)\n",
        "                                  target_transform=None)  # transforms to perform on labels (if necessary)\n",
        "\n",
        "test_data = datasets.ImageFolder(root=test_dir,\n",
        "    transform=data_transform)"
      ]
    },
    {
      "cell_type": "code",
      "execution_count": null,
      "metadata": {
        "colab": {
          "base_uri": "https://localhost:8080/"
        },
        "id": "-BcL2g21yaVP",
        "outputId": "4ae13d37-5e10-43e3-8898-74a3bd24af76"
      },
      "outputs": [
        {
          "name": "stdout",
          "output_type": "stream",
          "text": [
            "Train data:\n",
            "Dataset ImageFolder\n",
            "    Number of datapoints: 5013\n",
            "    Root location: /content/drive/My Drive/Colab Notebooks/DL/KaggleGlass/train\n",
            "    StandardTransform\n",
            "Transform: Compose(\n",
            "               Resize(size=(64, 64), interpolation=bilinear, max_size=None, antialias=None)\n",
            "               ToTensor()\n",
            "           )\n",
            "Test data:\n",
            "Dataset ImageFolder\n",
            "    Number of datapoints: 1500\n",
            "    Root location: /content/drive/My Drive/Colab Notebooks/DL/KaggleGlass/test/small_test_set\n",
            "    StandardTransform\n",
            "Transform: Compose(\n",
            "               Resize(size=(64, 64), interpolation=bilinear, max_size=None, antialias=None)\n",
            "               ToTensor()\n",
            "           )\n"
          ]
        }
      ],
      "source": [
        "print(f\"Train data:\\n{train_data}\\nTest data:\\n{test_data}\")"
      ]
    },
    {
      "cell_type": "code",
      "execution_count": null,
      "metadata": {
        "id": "8lF5Lu8KZ5sZ"
      },
      "outputs": [],
      "source": [
        "test = np.array(train_data[0][0])\n",
        "y = train_data"
      ]
    },
    {
      "cell_type": "code",
      "execution_count": null,
      "metadata": {
        "colab": {
          "base_uri": "https://localhost:8080/"
        },
        "id": "Zrk0tYYQzPgQ",
        "outputId": "ef53b093-bf0c-4d5f-8fed-4f97a20dc0cb"
      },
      "outputs": [
        {
          "name": "stdout",
          "output_type": "stream",
          "text": [
            "['glasses', 'no_glasses']\n"
          ]
        }
      ],
      "source": [
        "class_names = train_data.classes\n",
        "print(class_names)"
      ]
    },
    {
      "cell_type": "markdown",
      "metadata": {
        "id": "euI_GiJTzBYn"
      },
      "source": [
        "Nous avons bien un tensor"
      ]
    },
    {
      "cell_type": "code",
      "execution_count": null,
      "metadata": {
        "colab": {
          "base_uri": "https://localhost:8080/",
          "height": 445
        },
        "id": "L9-rQodnzgMH",
        "outputId": "ead233c2-3ea6-4d84-d03c-4e69cd324dd4"
      },
      "outputs": [
        {
          "name": "stdout",
          "output_type": "stream",
          "text": [
            "torch.Size([64, 64, 3])\n"
          ]
        },
        {
          "data": {
            "image/png": "[encoded data removed]",
            "text/plain": [
              "<Figure size 720x504 with 1 Axes>"
            ]
          },
          "metadata": {},
          "output_type": "display_data"
        }
      ],
      "source": [
        "test = train_data[3][0]\n",
        "my_label = train_data[0][1]\n",
        "test_reshaped = test.permute(1, 2, 0)\n",
        "print(test_reshaped.shape)\n",
        "\n",
        "# Plot the image\n",
        "plt.figure(figsize=(10, 7))\n",
        "plt.imshow(test_reshaped)\n",
        "plt.axis(\"off\")\n",
        "plt.title(class_names[my_label], fontsize=14);"
      ]
    },
    {
      "cell_type": "markdown",
      "metadata": {
        "id": "bqkbfneez1hv"
      },
      "source": [
        "DataLoader"
      ]
    },
    {
      "cell_type": "code",
      "execution_count": null,
      "metadata": {
        "colab": {
          "base_uri": "https://localhost:8080/"
        },
        "id": "cNiz1pLih5Sf",
        "outputId": "bd2d8736-6bc0-4073-92ee-41c0f974b5fb"
      },
      "outputs": [
        {
          "name": "stdout",
          "output_type": "stream",
          "text": [
            "<class 'torchvision.datasets.folder.ImageFolder'>\n"
          ]
        }
      ],
      "source": [
        "print(type(train_data))"
      ]
    },
    {
      "cell_type": "code",
      "execution_count": null,
      "metadata": {
        "id": "VQotv4Tlj-Ut"
      },
      "outputs": [],
      "source": [
        "# Transform to normalized Tensors\n",
        "transform = transforms.Compose([transforms.ToTensor(),\n",
        "                                transforms.Normalize((0.1307,), (0.3081,))])\n",
        "\n",
        "\n",
        "train_loader = DataLoader(train_dataset, batch_size=len(train_dataset))\n",
        "# test_loader = DataLoader(test_dataset, batch_size=len(test_dataset))\n",
        "\n",
        "train_dataset_array = next(iter(train_loader))[0].numpy()\n",
        "# test_dataset_array = next(iter(test_loader))[0].numpy()"
      ]
    },
    {
      "cell_type": "code",
      "execution_count": null,
      "metadata": {
        "id": "A7MTz6Tpz4mc"
      },
      "outputs": [],
      "source": [
        "train_dataloader = DataLoader(\n",
        "    dataset=train_data,\n",
        "    batch_size = 3\n",
        ")\n",
        "\n",
        "test_dataloader = DataLoader(\n",
        "    dataset=test_data,\n",
        "    batch_size=4,\n",
        "    shuffle=False\n",
        ") # don't usually need to shuffle testing data"
      ]
    },
    {
      "cell_type": "code",
      "execution_count": null,
      "metadata": {
        "id": "E11KVyRshsCN"
      },
      "outputs": [],
      "source": [
        "x_train = next(iter(train_dataloader))[0].numpy()\n",
        "y_train = next(iter(train_dataloader))[1].numpy()"
      ]
    },
    {
      "cell_type": "code",
      "execution_count": null,
      "metadata": {
        "colab": {
          "base_uri": "https://localhost:8080/"
        },
        "id": "KmSpOPMWhzPp",
        "outputId": "ccd3c962-cf85-420b-931b-4422e2711bf1"
      },
      "outputs": [
        {
          "name": "stdout",
          "output_type": "stream",
          "text": [
            "(12288, 3)\n",
            "[0 0 0]\n"
          ]
        }
      ],
      "source": [
        "y_train = y_train.T\n",
        "\n",
        "x_train = x_train.T\n",
        "x_train_reshape = x_train.reshape(-1, x_train.shape[-1]) / x_train.max()\n",
        "\n",
        "m_train = 300\n",
        "m_test = 80\n",
        "x_train_reshape = x_train_reshape[:,:m_train]\n",
        "\n",
        "print(x_train_reshape.shape)\n",
        "print(y_train)\n"
      ]
    },
    {
      "cell_type": "markdown",
      "metadata": {
        "id": "kNmKlg3sfFdp"
      },
      "source": [
        "### Réseau de neurones"
      ]
    },
    {
      "cell_type": "code",
      "execution_count": null,
      "metadata": {
        "id": "EkiglsgZz913"
      },
      "outputs": [],
      "source": [
        "class Net(nn.Module):\n",
        "    def __init__(self, hidden_units=10):\n",
        "        super(Net, self).__init__()\n",
        "        self.fc1 = nn.Linear(64*64*3, hidden_units)\n",
        "        self.fc2 = nn.Linear(hidden_units, 2)\n",
        "\n",
        "    def forward(self, x):\n",
        "        x = nn.ReLU()(self.fc1(x))\n",
        "        x = self.fc2(x)\n",
        "        return x\n",
        "\n",
        "model = Net()"
      ]
    },
    {
      "cell_type": "code",
      "execution_count": null,
      "metadata": {
        "colab": {
          "base_uri": "https://localhost:8080/"
        },
        "id": "MdvvfvXtz-uH",
        "outputId": "92b4a409-5217-41dc-c01b-a1021f7e2796"
      },
      "outputs": [
        {
          "name": "stdout",
          "output_type": "stream",
          "text": [
            "0.2593333423137665\n"
          ]
        }
      ],
      "source": [
        "def test_our_model():  # no arguments, literally all our variable our globals (not great but it's a notebook)\n",
        "    # Put model in eval mode\n",
        "    model.eval()  # to remove stuff like dropout that's only going to be in the training part\n",
        "\n",
        "    # Setup test accuracy value\n",
        "    test_acc = 0\n",
        "\n",
        "    # Turn on inference context manager\n",
        "    with torch.no_grad():\n",
        "        # Loop through DataLoader batches\n",
        "        for X_test, y_test in test_dataloader:  # majuscule à X car c'est une \"matrice\", et y un entier\n",
        "            # 1. Forward pass\n",
        "            # print(X_test.shape)\n",
        "            # print(X_test.view(-1, 64*64*3).shape)\n",
        "            # break\n",
        "            model_output = model(X_test.view(-1, 64*64*3))\n",
        "\n",
        "            # 2. Calculate and accumulate accuracy\n",
        "            test_pred_label = model_output.argmax(dim=1)\n",
        "            test_acc += (test_pred_label == y_test).sum()  # True == 1, False == 0\n",
        "\n",
        "    # Adjust metrics to get average loss and accuracy per batch\n",
        "    test_acc = test_acc / (test_dataloader.batch_size*len(test_dataloader))\n",
        "    print(test_acc.item())\n",
        "\n",
        "test_our_model()"
      ]
    },
    {
      "cell_type": "code",
      "execution_count": null,
      "metadata": {
        "id": "PLqW-jL200C3"
      },
      "outputs": [],
      "source": [
        "from tqdm import tqdm"
      ]
    },
    {
      "cell_type": "code",
      "execution_count": null,
      "metadata": {
        "colab": {
          "background_save": true,
          "base_uri": "https://localhost:8080/"
        },
        "id": "UTfPHXG30e8j",
        "outputId": "8841e346-d37f-4f13-e496-f521122a3f34"
      },
      "outputs": [
        {
          "name": "stderr",
          "output_type": "stream",
          "text": [
            "  5%|▌         | 1/20 [26:59<8:32:49, 1619.43s/it]"
          ]
        },
        {
          "name": "stdout",
          "output_type": "stream",
          "text": [
            "epoch 1/20, train_loss = 2.75e-03, train_acc = 99.94%\n"
          ]
        },
        {
          "name": "stderr",
          "output_type": "stream",
          "text": [
            "\r 10%|█         | 2/20 [28:56<3:40:44, 735.83s/it] "
          ]
        },
        {
          "name": "stdout",
          "output_type": "stream",
          "text": [
            "epoch 2/20, train_loss = 3.49e-02, train_acc = 99.16%\n"
          ]
        },
        {
          "name": "stderr",
          "output_type": "stream",
          "text": [
            "\r 15%|█▌        | 3/20 [30:51<2:08:11, 452.42s/it]"
          ]
        },
        {
          "name": "stdout",
          "output_type": "stream",
          "text": [
            "epoch 3/20, train_loss = 4.16e-02, train_acc = 96.35%\n"
          ]
        },
        {
          "name": "stderr",
          "output_type": "stream",
          "text": [
            "\r 20%|██        | 4/20 [32:51<1:25:38, 321.16s/it]"
          ]
        },
        {
          "name": "stdout",
          "output_type": "stream",
          "text": [
            "epoch 4/20, train_loss = 4.14e-02, train_acc = 96.35%\n"
          ]
        },
        {
          "name": "stderr",
          "output_type": "stream",
          "text": [
            "\r 25%|██▌       | 5/20 [34:47<1:01:46, 247.13s/it]"
          ]
        },
        {
          "name": "stdout",
          "output_type": "stream",
          "text": [
            "epoch 5/20, train_loss = 4.14e-02, train_acc = 96.35%\n"
          ]
        },
        {
          "name": "stderr",
          "output_type": "stream",
          "text": [
            "\r 30%|███       | 6/20 [36:43<47:13, 202.37s/it]  "
          ]
        },
        {
          "name": "stdout",
          "output_type": "stream",
          "text": [
            "epoch 6/20, train_loss = 4.14e-02, train_acc = 96.35%\n"
          ]
        },
        {
          "name": "stderr",
          "output_type": "stream",
          "text": [
            "\r 35%|███▌      | 7/20 [38:40<37:50, 174.66s/it]"
          ]
        },
        {
          "name": "stdout",
          "output_type": "stream",
          "text": [
            "epoch 7/20, train_loss = 4.14e-02, train_acc = 96.35%\n"
          ]
        },
        {
          "name": "stderr",
          "output_type": "stream",
          "text": [
            "\r 40%|████      | 8/20 [40:37<31:15, 156.28s/it]"
          ]
        },
        {
          "name": "stdout",
          "output_type": "stream",
          "text": [
            "epoch 8/20, train_loss = 4.14e-02, train_acc = 96.35%\n"
          ]
        },
        {
          "name": "stderr",
          "output_type": "stream",
          "text": [
            "\r 45%|████▌     | 9/20 [42:35<26:25, 144.17s/it]"
          ]
        },
        {
          "name": "stdout",
          "output_type": "stream",
          "text": [
            "epoch 9/20, train_loss = 4.14e-02, train_acc = 96.35%\n"
          ]
        },
        {
          "name": "stderr",
          "output_type": "stream",
          "text": [
            "\r 50%|█████     | 10/20 [44:31<22:34, 135.41s/it]"
          ]
        },
        {
          "name": "stdout",
          "output_type": "stream",
          "text": [
            "epoch 10/20, train_loss = 4.14e-02, train_acc = 96.35%\n"
          ]
        },
        {
          "name": "stderr",
          "output_type": "stream",
          "text": [
            "\r 55%|█████▌    | 11/20 [46:29<19:30, 130.07s/it]"
          ]
        },
        {
          "name": "stdout",
          "output_type": "stream",
          "text": [
            "epoch 11/20, train_loss = 4.14e-02, train_acc = 96.35%\n"
          ]
        },
        {
          "name": "stderr",
          "output_type": "stream",
          "text": [
            "\r 60%|██████    | 12/20 [48:24<16:45, 125.72s/it]"
          ]
        },
        {
          "name": "stdout",
          "output_type": "stream",
          "text": [
            "epoch 12/20, train_loss = 4.14e-02, train_acc = 96.35%\n"
          ]
        },
        {
          "name": "stderr",
          "output_type": "stream",
          "text": [
            "\r 65%|██████▌   | 13/20 [50:20<14:17, 122.56s/it]"
          ]
        },
        {
          "name": "stdout",
          "output_type": "stream",
          "text": [
            "epoch 13/20, train_loss = 4.14e-02, train_acc = 96.35%\n"
          ]
        },
        {
          "name": "stderr",
          "output_type": "stream",
          "text": [
            "\r 70%|███████   | 14/20 [52:17<12:06, 121.04s/it]"
          ]
        },
        {
          "name": "stdout",
          "output_type": "stream",
          "text": [
            "epoch 14/20, train_loss = 4.14e-02, train_acc = 96.35%\n"
          ]
        },
        {
          "name": "stderr",
          "output_type": "stream",
          "text": [
            "\r 75%|███████▌  | 15/20 [54:13<09:56, 119.37s/it]"
          ]
        },
        {
          "name": "stdout",
          "output_type": "stream",
          "text": [
            "epoch 15/20, train_loss = 4.14e-02, train_acc = 96.35%\n"
          ]
        },
        {
          "name": "stderr",
          "output_type": "stream",
          "text": [
            "\r 80%|████████  | 16/20 [56:10<07:54, 118.65s/it]"
          ]
        },
        {
          "name": "stdout",
          "output_type": "stream",
          "text": [
            "epoch 16/20, train_loss = 4.14e-02, train_acc = 96.35%\n"
          ]
        },
        {
          "name": "stderr",
          "output_type": "stream",
          "text": [
            "\r 85%|████████▌ | 17/20 [58:05<05:52, 117.56s/it]"
          ]
        },
        {
          "name": "stdout",
          "output_type": "stream",
          "text": [
            "epoch 17/20, train_loss = 4.14e-02, train_acc = 96.35%\n"
          ]
        },
        {
          "name": "stderr",
          "output_type": "stream",
          "text": [
            "\r 90%|█████████ | 18/20 [1:00:01<03:54, 117.08s/it]"
          ]
        },
        {
          "name": "stdout",
          "output_type": "stream",
          "text": [
            "epoch 18/20, train_loss = 4.14e-02, train_acc = 96.35%\n"
          ]
        },
        {
          "name": "stderr",
          "output_type": "stream",
          "text": [
            "\r 95%|█████████▌| 19/20 [1:01:56<01:56, 116.66s/it]"
          ]
        },
        {
          "name": "stdout",
          "output_type": "stream",
          "text": [
            "epoch 19/20, train_loss = 4.14e-02, train_acc = 96.35%\n"
          ]
        },
        {
          "name": "stderr",
          "output_type": "stream",
          "text": [
            "100%|██████████| 20/20 [1:03:52<00:00, 191.61s/it]"
          ]
        },
        {
          "name": "stdout",
          "output_type": "stream",
          "text": [
            "epoch 20/20, train_loss = 4.14e-02, train_acc = 96.35%\n"
          ]
        },
        {
          "name": "stderr",
          "output_type": "stream",
          "text": [
            "\n"
          ]
        }
      ],
      "source": [
        "loss_fn = nn.CrossEntropyLoss()\n",
        "optimizer_adam = torch.optim.Adam(params=model.parameters(), lr=0.001)\n",
        "optimizer_sgd = torch.optim.SGD(model.parameters(), lr=0.1)\n",
        "\n",
        "nbr_epochs: int = 20\n",
        "\n",
        "def train(optimizer):\n",
        "    # Put model in train mode\n",
        "    model.train()\n",
        "\n",
        "    # Setup train loss and train accuracy values\n",
        "    train_loss, train_acc = 0, 0\n",
        "    for epoch in tqdm(range(nbr_epochs)):\n",
        "        # Loop through data loader data batches\n",
        "        for X, y in train_dataloader:\n",
        "            # 1. Forward pass\n",
        "            y_pred = model(X.view(-1, 64*64*3))\n",
        "\n",
        "            # 2. Calculate  and accumulate loss\n",
        "            loss = loss_fn(y_pred, y)\n",
        "            train_loss += loss.item()\n",
        "\n",
        "            # 3. Optimizer zero grad\n",
        "            optimizer.zero_grad()\n",
        "\n",
        "            # 4. Loss backward\n",
        "            loss.backward()\n",
        "\n",
        "            # 5. Optimizer step\n",
        "            optimizer.step()\n",
        "\n",
        "            # Calculate and accumulate accuracy metric across all batches\n",
        "            y_pred_class = y_pred.argmax(dim=1)\n",
        "            train_acc += (y_pred_class == y).sum()\n",
        "\n",
        "        # Adjust metrics to get average loss and accuracy per batch\n",
        "        train_loss = train_loss / (train_dataloader.batch_size * len(train_dataloader))\n",
        "        train_acc = train_acc / (train_dataloader.batch_size * len(train_dataloader))\n",
        "        print(\n",
        "            f\"epoch {epoch+1}/{nbr_epochs},\"\n",
        "            f\" train_loss = {train_loss:.2e},\"\n",
        "            f\" train_acc = {100*train_acc.item():.2f}%\"\n",
        "        )\n",
        "\n",
        "train(optimizer_sgd)"
      ]
    },
    {
      "cell_type": "markdown",
      "metadata": {
        "id": "wVTvcWT9UuKC"
      },
      "source": [
        "### Lecture du fichier small test"
      ]
    },
    {
      "cell_type": "code",
      "execution_count": null,
      "metadata": {
        "id": "-eU1Z-_VU-oV"
      },
      "outputs": [],
      "source": [
        "my_iterable = iter(test_dataloader)"
      ]
    },
    {
      "cell_type": "code",
      "execution_count": null,
      "metadata": {
        "colab": {
          "base_uri": "https://localhost:8080/"
        },
        "id": "IPEXyKjgVGwg",
        "outputId": "c9f04ef8-193a-413d-a126-ba6ae299ff9b"
      },
      "outputs": [
        {
          "name": "stdout",
          "output_type": "stream",
          "text": [
            "torch.Size([4, 3, 64, 64])\n"
          ]
        }
      ],
      "source": [
        "X_test_one_batch, y_test_one_batch = next(my_iterable)\n",
        "X_test_one, y_test_one = X_test_one_batch[0], y_test_one_batch[0]\n",
        "print(X_test_one_batch.shape)"
      ]
    },
    {
      "cell_type": "code",
      "execution_count": null,
      "metadata": {
        "colab": {
          "base_uri": "https://localhost:8080/",
          "height": 480
        },
        "id": "pIzVU3oaUxyt",
        "outputId": "68daacda-4aae-4f19-bbe1-9863bbbc8fe0"
      },
      "outputs": [
        {
          "name": "stdout",
          "output_type": "stream",
          "text": [
            "tensor([[0.2887, 0.0810]], grad_fn=<AddmmBackward0>)\n",
            "tensor(0)\n",
            "Predicted class: glasses\n",
            "Actual class: glasses\n"
          ]
        },
        {
          "data": {
            "image/png": "[encoded data removed]",
            "text/plain": [
              "<Figure size 720x504 with 1 Axes>"
            ]
          },
          "metadata": {},
          "output_type": "display_data"
        }
      ],
      "source": [
        "# 0. Eval mode\n",
        "model.eval()\n",
        "\n",
        "# 1. Forward pass\n",
        "model_output = model(X_test_one.view(-1, 64*64*3))\n",
        "\n",
        "print(model_output)\n",
        "\n",
        "# 2. Calculate predicted label\n",
        "test_pred_label = model_output.argmax()\n",
        "\n",
        "print(test_pred_label)\n",
        "\n",
        "# 3. Display\n",
        "print(f\"Predicted class: {class_names[test_pred_label]}\")\n",
        "print(f\"Actual class: {class_names[y_test_one]}\")\n",
        "plt.figure(figsize=(10, 7))\n",
        "plt.imshow(X_test_one.permute(1, 2, 0))\n",
        "_ = plt.axis(\"off\")"
      ]
    },
    {
      "cell_type": "markdown",
      "metadata": {
        "id": "CuW-b3gGYvaY"
      },
      "source": [
        "### Réseau de neurones"
      ]
    },
    {
      "cell_type": "code",
      "execution_count": null,
      "metadata": {
        "id": "FzPVNvsjZA0H"
      },
      "outputs": [],
      "source": [
        "import numpy as np\n",
        "from sklearn.metrics import accuracy_score"
      ]
    },
    {
      "cell_type": "code",
      "execution_count": null,
      "metadata": {
        "id": "mvXAeLfUZMMV"
      },
      "outputs": [],
      "source": [
        "def logloss(A,y):\n",
        "  epsilon = 1e-15\n",
        "  return 1 / len(y) * np.sum(-y*np.log(A+epsilon)- (1-y) * np.log(1-A + epsilon))"
      ]
    },
    {
      "cell_type": "code",
      "execution_count": null,
      "metadata": {
        "id": "QoTEHLbZYxKS"
      },
      "outputs": [],
      "source": [
        "def initialisation_reseau(dimensions):\n",
        "\n",
        "  param ={}\n",
        "  c = len(dimensions)\n",
        "\n",
        "  for c in range(1,c):\n",
        "    param['W'+str(c)] = np.random.randn(dimensions[c],dimensions[c-1])\n",
        "    param['b'+str(c)] = np.random.randn(dimensions[c],1)\n",
        "\n",
        "  return param"
      ]
    },
    {
      "cell_type": "code",
      "execution_count": null,
      "metadata": {
        "id": "8n9umFg4Y07U"
      },
      "outputs": [],
      "source": [
        "def forward_propagation(X, param):\n",
        "\n",
        "  activations = {'A0':X}\n",
        "  C = len(param) //2\n",
        "\n",
        "  for c in range(1,C+1):\n",
        "    z = param['W' + str(c)].dot(activations['A' + str(c-1)]) + param['b' + str(c)]\n",
        "    activations['A' + str(c)] = 1 / (1+np.exp(-z))\n",
        "  return activations"
      ]
    },
    {
      "cell_type": "code",
      "execution_count": null,
      "metadata": {
        "id": "vLjAKoGiY3M-"
      },
      "outputs": [],
      "source": [
        "def back_propagation(y, activations, param):\n",
        "\n",
        "  m = y.shape[1]\n",
        "  C = len(param) // 2\n",
        "\n",
        "  dZ = activations['A' + str(C)] - y\n",
        "  gradients = {}\n",
        "\n",
        "  for c in reversed(range(1,C+1)):\n",
        "    gradients['dW'+str(c)] = 1 / m * np.dot(dZ, activations['A' + str(c-1)].T)\n",
        "    gradients['db'+str(c)] = 1 / m * np.sum(dZ, axis = 1, keepdims = True)\n",
        "    if c>1:\n",
        "      dZ = np.dot(param['W' +str(c)].T, dZ) * activations['A'+str(c-1)] * (1-activations['A' + str(c-1)])\n",
        "  return gradients"
      ]
    },
    {
      "cell_type": "code",
      "execution_count": null,
      "metadata": {
        "id": "3EeiTUbpY4sx"
      },
      "outputs": [],
      "source": [
        "def update_reseau(gradients, parametres, learning_rate):\n",
        "\n",
        "    C = len(parametres) // 2\n",
        "\n",
        "    for c in range(1, C + 1):\n",
        "        parametres['W' + str(c)] = parametres['W' + str(c)] - learning_rate * gradients['dW' + str(c)]\n",
        "        parametres['b' + str(c)] = parametres['b' + str(c)] - learning_rate * gradients['db' + str(c)]\n",
        "\n",
        "    return parametres"
      ]
    },
    {
      "cell_type": "code",
      "execution_count": null,
      "metadata": {
        "id": "muX0r51gY5zr"
      },
      "outputs": [],
      "source": [
        "def predict_reseau(X, parametres):\n",
        "  activations = forward_propagation(X, parametres)\n",
        "  C = len(parametres) // 2\n",
        "  Af = activations['A' + str(C)]\n",
        "  return Af >= 0.5"
      ]
    },
    {
      "cell_type": "code",
      "execution_count": null,
      "metadata": {
        "id": "3LlmbpexY8nV"
      },
      "outputs": [],
      "source": [
        "def neural_net(X,y, hidden_layers, lr, n_iter):\n",
        "\n",
        "  #initialisation des param W et b\n",
        "  dimensions = list(hidden_layers)\n",
        "  dimensions.insert(0,X.shape[0])\n",
        "  dimensions.append(y.shape[0])\n",
        "  param = initialisation_reseau(dimensions)\n",
        "\n",
        "  train_Loss = []\n",
        "  train_acc = []\n",
        "  label = []\n",
        "\n",
        "  for i in tqdm(range(n_iter)):\n",
        "\n",
        "    activations = forward_propagation(X, param)\n",
        "    gradients = back_propagation(y, activations, param)\n",
        "    param = update_reseau(gradients, param, lr)\n",
        "\n",
        "    if i%10 == 0:\n",
        "\n",
        "      C = len(param) // 2\n",
        "      train_Loss.append(logloss(activations['A' + str(C)], y))\n",
        "      y_pred = predict_reseau(X,param)\n",
        "      label.append(y_pred)\n",
        "      current_accuracy = accuracy_score(y.flatten(), y_pred.flatten())\n",
        "      train_acc.append(current_accuracy)\n",
        "\n",
        "\n",
        "  plt.figure(figsize=(12,4))\n",
        "\n",
        "  plt.subplot(1,2,1)\n",
        "  plt.plot(train_Loss, label = 'train loss')\n",
        "  plt.legend()\n",
        "  plt.subplot(1,2,2)\n",
        "  plt.plot(train_acc, label = 'train acc')\n",
        "  plt.show()\n",
        "\n",
        "  return param, label"
      ]
    },
    {
      "cell_type": "code",
      "execution_count": null,
      "metadata": {
        "id": "JQWx8HSseEGF"
      },
      "outputs": [],
      "source": [
        "X_train = next(iter(train_dataloader))[0].numpy()\n",
        "y_train = next(iter(train_dataloader))[1].numpy()\n",
        "# test_dataset_array = next(iter(test_loader))[0].numpy()\n",
        "\n",
        "#print(train_dataloader)"
      ]
    },
    {
      "cell_type": "code",
      "execution_count": null,
      "metadata": {
        "colab": {
          "base_uri": "https://localhost:8080/"
        },
        "id": "jR6HYE3MeueH",
        "outputId": "65bb8c73-25ac-426c-dec0-f9edbe5632cb"
      },
      "outputs": [
        {
          "name": "stdout",
          "output_type": "stream",
          "text": [
            "(64, 64, 3, 4)\n"
          ]
        }
      ],
      "source": [
        "print(X_train.T.shape)"
      ]
    },
    {
      "cell_type": "code",
      "execution_count": null,
      "metadata": {
        "colab": {
          "base_uri": "https://localhost:8080/",
          "height": 346
        },
        "id": "7E23T40OZYRO",
        "outputId": "cf4f7787-4efa-46c0-97c1-759e0cd924b3"
      },
      "outputs": [
        {
          "name": "stderr",
          "output_type": "stream",
          "text": [
            "  0%|          | 0/100 [00:00<?, ?it/s]\n"
          ]
        },
        {
          "ename": "ValueError",
          "evalue": "ignored",
          "output_type": "error",
          "traceback": [
            "\u001b[0;31m---------------------------------------------------------------------------\u001b[0m",
            "\u001b[0;31mValueError\u001b[0m                                Traceback (most recent call last)",
            "\u001b[0;32m<ipython-input-159-831b70eea87a>\u001b[0m in \u001b[0;36m<module>\u001b[0;34m\u001b[0m\n\u001b[1;32m      1\u001b[0m \u001b[0mhidden_layers\u001b[0m \u001b[0;34m=\u001b[0m \u001b[0;34m(\u001b[0m\u001b[0;36m16\u001b[0m\u001b[0;34m,\u001b[0m\u001b[0;36m16\u001b[0m\u001b[0;34m,\u001b[0m\u001b[0;36m16\u001b[0m\u001b[0;34m)\u001b[0m\u001b[0;34m\u001b[0m\u001b[0;34m\u001b[0m\u001b[0m\n\u001b[0;32m----> 2\u001b[0;31m \u001b[0mparam\u001b[0m\u001b[0;34m,\u001b[0m \u001b[0mlabel\u001b[0m \u001b[0;34m=\u001b[0m \u001b[0mneural_net\u001b[0m\u001b[0;34m(\u001b[0m\u001b[0mX_train\u001b[0m\u001b[0;34m,\u001b[0m \u001b[0my_train\u001b[0m\u001b[0;34m,\u001b[0m \u001b[0mhidden_layers\u001b[0m\u001b[0;34m,\u001b[0m \u001b[0mn_iter\u001b[0m \u001b[0;34m=\u001b[0m \u001b[0;36m100\u001b[0m\u001b[0;34m,\u001b[0m \u001b[0mlr\u001b[0m \u001b[0;34m=\u001b[0m \u001b[0;36m0.1\u001b[0m\u001b[0;34m)\u001b[0m\u001b[0;34m\u001b[0m\u001b[0;34m\u001b[0m\u001b[0m\n\u001b[0m",
            "\u001b[0;32m<ipython-input-139-cbd63066899e>\u001b[0m in \u001b[0;36mneural_net\u001b[0;34m(X, y, hidden_layers, lr, n_iter)\u001b[0m\n\u001b[1;32m     13\u001b[0m   \u001b[0;32mfor\u001b[0m \u001b[0mi\u001b[0m \u001b[0;32min\u001b[0m \u001b[0mtqdm\u001b[0m\u001b[0;34m(\u001b[0m\u001b[0mrange\u001b[0m\u001b[0;34m(\u001b[0m\u001b[0mn_iter\u001b[0m\u001b[0;34m)\u001b[0m\u001b[0;34m)\u001b[0m\u001b[0;34m:\u001b[0m\u001b[0;34m\u001b[0m\u001b[0;34m\u001b[0m\u001b[0m\n\u001b[1;32m     14\u001b[0m \u001b[0;34m\u001b[0m\u001b[0m\n\u001b[0;32m---> 15\u001b[0;31m     \u001b[0mactivations\u001b[0m \u001b[0;34m=\u001b[0m \u001b[0mforward_propagation\u001b[0m\u001b[0;34m(\u001b[0m\u001b[0mX\u001b[0m\u001b[0;34m,\u001b[0m \u001b[0mparam\u001b[0m\u001b[0;34m)\u001b[0m\u001b[0;34m\u001b[0m\u001b[0;34m\u001b[0m\u001b[0m\n\u001b[0m\u001b[1;32m     16\u001b[0m     \u001b[0mgradients\u001b[0m \u001b[0;34m=\u001b[0m \u001b[0mback_propagation\u001b[0m\u001b[0;34m(\u001b[0m\u001b[0my\u001b[0m\u001b[0;34m,\u001b[0m \u001b[0mactivations\u001b[0m\u001b[0;34m,\u001b[0m \u001b[0mparam\u001b[0m\u001b[0;34m)\u001b[0m\u001b[0;34m\u001b[0m\u001b[0;34m\u001b[0m\u001b[0m\n\u001b[1;32m     17\u001b[0m     \u001b[0mparam\u001b[0m \u001b[0;34m=\u001b[0m \u001b[0mupdate_reseau\u001b[0m\u001b[0;34m(\u001b[0m\u001b[0mgradients\u001b[0m\u001b[0;34m,\u001b[0m \u001b[0mparam\u001b[0m\u001b[0;34m,\u001b[0m \u001b[0mlr\u001b[0m\u001b[0;34m)\u001b[0m\u001b[0;34m\u001b[0m\u001b[0;34m\u001b[0m\u001b[0m\n",
            "\u001b[0;32m<ipython-input-38-aaec92f5e397>\u001b[0m in \u001b[0;36mforward_propagation\u001b[0;34m(X, param)\u001b[0m\n\u001b[1;32m      5\u001b[0m \u001b[0;34m\u001b[0m\u001b[0m\n\u001b[1;32m      6\u001b[0m   \u001b[0;32mfor\u001b[0m \u001b[0mc\u001b[0m \u001b[0;32min\u001b[0m \u001b[0mrange\u001b[0m\u001b[0;34m(\u001b[0m\u001b[0;36m1\u001b[0m\u001b[0;34m,\u001b[0m\u001b[0mC\u001b[0m\u001b[0;34m+\u001b[0m\u001b[0;36m1\u001b[0m\u001b[0;34m)\u001b[0m\u001b[0;34m:\u001b[0m\u001b[0;34m\u001b[0m\u001b[0;34m\u001b[0m\u001b[0m\n\u001b[0;32m----> 7\u001b[0;31m     \u001b[0mz\u001b[0m \u001b[0;34m=\u001b[0m \u001b[0mparam\u001b[0m\u001b[0;34m[\u001b[0m\u001b[0;34m'W'\u001b[0m \u001b[0;34m+\u001b[0m \u001b[0mstr\u001b[0m\u001b[0;34m(\u001b[0m\u001b[0mc\u001b[0m\u001b[0;34m)\u001b[0m\u001b[0;34m]\u001b[0m\u001b[0;34m.\u001b[0m\u001b[0mdot\u001b[0m\u001b[0;34m(\u001b[0m\u001b[0mactivations\u001b[0m\u001b[0;34m[\u001b[0m\u001b[0;34m'A'\u001b[0m \u001b[0;34m+\u001b[0m \u001b[0mstr\u001b[0m\u001b[0;34m(\u001b[0m\u001b[0mc\u001b[0m\u001b[0;34m-\u001b[0m\u001b[0;36m1\u001b[0m\u001b[0;34m)\u001b[0m\u001b[0;34m]\u001b[0m\u001b[0;34m)\u001b[0m \u001b[0;34m+\u001b[0m \u001b[0mparam\u001b[0m\u001b[0;34m[\u001b[0m\u001b[0;34m'b'\u001b[0m \u001b[0;34m+\u001b[0m \u001b[0mstr\u001b[0m\u001b[0;34m(\u001b[0m\u001b[0mc\u001b[0m\u001b[0;34m)\u001b[0m\u001b[0;34m]\u001b[0m\u001b[0;34m\u001b[0m\u001b[0;34m\u001b[0m\u001b[0m\n\u001b[0m\u001b[1;32m      8\u001b[0m     \u001b[0mactivations\u001b[0m\u001b[0;34m[\u001b[0m\u001b[0;34m'A'\u001b[0m \u001b[0;34m+\u001b[0m \u001b[0mstr\u001b[0m\u001b[0;34m(\u001b[0m\u001b[0mc\u001b[0m\u001b[0;34m)\u001b[0m\u001b[0;34m]\u001b[0m \u001b[0;34m=\u001b[0m \u001b[0;36m1\u001b[0m \u001b[0;34m/\u001b[0m \u001b[0;34m(\u001b[0m\u001b[0;36m1\u001b[0m\u001b[0;34m+\u001b[0m\u001b[0mnp\u001b[0m\u001b[0;34m.\u001b[0m\u001b[0mexp\u001b[0m\u001b[0;34m(\u001b[0m\u001b[0;34m-\u001b[0m\u001b[0mz\u001b[0m\u001b[0;34m)\u001b[0m\u001b[0;34m)\u001b[0m\u001b[0;34m\u001b[0m\u001b[0;34m\u001b[0m\u001b[0m\n\u001b[1;32m      9\u001b[0m   \u001b[0;32mreturn\u001b[0m \u001b[0mactivations\u001b[0m\u001b[0;34m\u001b[0m\u001b[0;34m\u001b[0m\u001b[0m\n",
            "\u001b[0;31mValueError\u001b[0m: shapes (16,3) and (3,3,64,64) not aligned: 3 (dim 1) != 64 (dim 2)"
          ]
        }
      ],
      "source": [
        "hidden_layers = (16,16,16)\n",
        "param, label = neural_net(X_train, y_train, hidden_layers, n_iter = 100, lr = 0.1)"
      ]
    }
  ],
  "metadata": {
    "colab": {
      "provenance": []
    },
    "kernelspec": {
      "display_name": "Python 3",
      "name": "python3"
    },
    "language_info": {
      "name": "python"
    }
  },
  "nbformat": 4,
  "nbformat_minor": 0
}